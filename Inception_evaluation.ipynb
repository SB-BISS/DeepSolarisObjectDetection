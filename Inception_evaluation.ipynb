{
 "cells": [
  {
   "cell_type": "code",
   "execution_count": 69,
   "metadata": {},
   "outputs": [],
   "source": [
    "def loadImg(file,x,y,padding=True):\n",
    "    img = cv2.imread(file)\n",
    "    if padding:\n",
    "        constant= cv2.copyMakeBorder(img,130,0,130,0,cv2.BORDER_CONSTANT,value=[0,0,0])\n",
    "        imgg = cv2.cvtColor(constant, cv2.COLOR_BGR2RGB)\n",
    "    else:\n",
    "        imgg = cv2.cvtColor(img, cv2.COLOR_BGR2RGB)\n",
    "    imgg = cv2.resize(imgg, (x,y))\n",
    "    img = imgg/255\n",
    "    img = img_to_array(img)\n",
    "    img = img.reshape([1,x,y,3])\n",
    "    return img"
   ]
  },
  {
   "cell_type": "code",
   "execution_count": 65,
   "metadata": {},
   "outputs": [],
   "source": [
    "# Load img\n",
    "import os\n",
    "import cv2\n",
    "import numpy as np\n",
    "import pandas as pd\n",
    "\n",
    "from keras.preprocessing.image import  img_to_array\n",
    "\n",
    "from keras.models import load_model\n",
    "\n",
    "\n",
    "modelFile = \"inception_ds.h5\"\n",
    "\n",
    "x = 150\n",
    "y = 150\n",
    "\n",
    "# model = load_model(modelFile)\n"
   ]
  },
  {
   "cell_type": "code",
   "execution_count": 36,
   "metadata": {},
   "outputs": [
    {
     "name": "stdout",
     "output_type": "stream",
     "text": [
      "[[0.8151042]]\n",
      "[[1.4621914e-05]]\n"
     ]
    }
   ],
   "source": [
    "testFile = \"3b800721-a71f-4c49-8bcc-439866c88251_rgb_hr_2018.tiff\"\n",
    "img = loadImg(testFile,x,y,True)\n",
    "img1 = loadImg(testFile,x,y,False)\n",
    "print(model.predict([img]))\n",
    "print(model.predict([img1]))\n"
   ]
  },
  {
   "cell_type": "code",
   "execution_count": 57,
   "metadata": {},
   "outputs": [],
   "source": [
    "xx = loadImg(testFile,x,y,True)"
   ]
  },
  {
   "cell_type": "code",
   "execution_count": 29,
   "metadata": {},
   "outputs": [
    {
     "data": {
      "text/plain": [
       "True"
      ]
     },
     "execution_count": 29,
     "metadata": {},
     "output_type": "execute_result"
    }
   ],
   "source": [
    "# img = cv2.imread(testFile)\n",
    "# imgg= cv2.copyMakeBorder(img,130,0,130,0,cv2.BORDER_CONSTANT,value=[0,0,0])\n",
    "# cv2.imwrite(\"img.png\", imgg)"
   ]
  },
  {
   "cell_type": "code",
   "execution_count": 70,
   "metadata": {},
   "outputs": [],
   "source": [
    "files = os.listdir(folder)\n",
    "files.sort()"
   ]
  },
  {
   "cell_type": "code",
   "execution_count": 77,
   "metadata": {
    "collapsed": true
   },
   "outputs": [
    {
     "name": "stdout",
     "output_type": "stream",
     "text": [
      "1000 02efee31-adbb-4ce5-bcd7-85b6db371420_rgb_hr_2018.tiff 0.056809254\n",
      "2000 05fe27f7-be3c-4101-bb9a-b979e3e1f087_rgb_hr_2018.tiff 0.0042088656\n",
      "3000 0904e780-8ee7-46d7-839c-cb794676551b_rgb_hr_2018.tiff 3.813408e-05\n",
      "4000 0bdf3c7e-a0ea-43cc-86f3-e15e3ae2dd31_rgb_hr_2018.tiff 0.00010834391\n",
      "5000 0ee82dc5-adb3-497a-9436-f689f61187f9_rgb_hr_2018.tiff 0.00015362553\n",
      "6000 11ffe7bf-3097-4357-a7f4-5c686217aa9d_rgb_hr_2018.tiff 4.913443e-06\n",
      "7000 15179205-e5e3-40ea-ac53-9587180d0088_rgb_hr_2018.tiff 0.9666616\n",
      "8000 185e52a5-5850-4085-a6a5-5bb02f8dc29c_rgb_hr_2018.tiff 7.0238326e-05\n",
      "9000 1b5cd395-240b-4628-a056-4dd5bcbf7e00_rgb_hr_2018.tiff 0.0007165802\n",
      "10000 1e7307d7-b957-47c7-b388-d552a15a9f86_rgb_hr_2018.tiff 0.23272887\n",
      "11000 2179d1b7-0e2e-4cfb-a273-11ac00951a5b_rgb_hr_2018.tiff 0.9908765\n",
      "12000 24822f3e-0d72-4f9d-88b6-8147395b61df_rgb_hr_2018.tiff 0.99999416\n",
      "13000 278710c1-a442-4fe1-85a7-856bc9ca2ece_rgb_hr_2018.tiff 0.8389952\n",
      "14000 2a931304-9f5a-48b6-8f31-45e576abafa8_rgb_hr_2018.tiff 0.46096775\n",
      "15000 2d91de87-d496-4d70-9e81-a4c7c4603286_rgb_hr_2018.tiff 0.00044010126\n",
      "16000 308d1756-966b-4883-aca6-b3f5b2a726e9_rgb_hr_2018.tiff 0.6752606\n",
      "17000 3385656b-a094-4d4a-bcfd-c27c6118d53b_rgb_hr_2018.tiff 2.5932824e-08\n",
      "18000 36721380-491c-4679-a41b-355be76074b3_rgb_hr_2018.tiff 0.12172264\n",
      "19000 396a8478-203b-4aff-979d-de13dcad6db5_rgb_hr_2018.tiff 0.1087406\n",
      "20000 3c843a43-1327-43cc-a568-567fa83f7491_rgb_hr_2018.tiff 0.99935395\n",
      "21000 3f7529ad-4f53-404b-9f02-e55c92f1695e_rgb_hr_2018.tiff 0.46565628\n",
      "22000 4295c03f-8a7b-47a2-8d93-e69c18c953f9_rgb_hr_2018.tiff 0.002597457\n",
      "23000 45858ed6-b227-4999-ac9c-c075daa544d6_rgb_hr_2018.tiff 0.0\n",
      "24000 48956e88-d8e8-4529-a6da-840ab6a65e64_rgb_hr_2018.tiff 5.3872092e-05\n",
      "25000 4bacfc2a-1d4e-48b1-8bea-6e0970739b0b_rgb_hr_2018.tiff 0.0012909545\n",
      "26000 4ea7b62c-0b7e-46a0-b7df-c222a69803ac_rgb_hr_2018.tiff 0.9527346\n",
      "27000 51ac0a4c-f829-45a9-9cec-278658636c77_rgb_hr_2018.tiff 0.0007589911\n",
      "28000 54ae7412-41f8-415e-aad0-f66c3f042057_rgb_hr_2018.tiff 0.047790576\n",
      "29000 579ef9d3-cbbe-45aa-81d1-9acee3288687_rgb_hr_2018.tiff 0.99993443\n",
      "30000 5aaa9838-699b-455b-a0bc-1602875d44f7_rgb_hr_2018.tiff 0.9434696\n",
      "31000 5dc00f4c-498e-4ce2-8e38-94122011cce1_rgb_hr_2018.tiff 0.9996008\n",
      "32000 60c41d27-9f84-4099-8b4d-21fd6e3645b7_rgb_hr_2018.tiff 0.011596701\n",
      "33000 63d5f978-0eb8-4896-9464-3f06f03646de_rgb_hr_2018.tiff 0.26346344\n",
      "34000 66b27b8f-992f-4941-9adc-bfb4207a8074_rgb_hr_2018.tiff 0.038854815\n",
      "35000 69bf55e5-ee3d-4d76-bee8-5f1155025fc4_rgb_hr_2018.tiff 0.66771084\n",
      "36000 6ce98290-125d-42ca-ad47-22c86ee367c1_rgb_hr_2018.tiff 0.00061514403\n",
      "37000 6ff024ee-2499-4bf1-a028-c685d76314d6_rgb_hr_2018.tiff 0.76535064\n",
      "38000 72dee9bc-4f14-49d9-8d53-e315b3c57649_rgb_hr_2018.tiff 2.1980586e-08\n",
      "39000 75dd0b0e-90c3-433d-b15b-6c508a264fa0_rgb_hr_2018.tiff 0.29535106\n",
      "40000 7900279a-1a47-4193-89e5-e7c1de958675_rgb_hr_2018.tiff 0.08201852\n",
      "41000 7bff1f4c-48a9-4685-94ea-b152473167b1_rgb_hr_2018.tiff 0.0\n",
      "42000 7f0f4d54-245d-4730-acbf-f019c2d63b56_rgb_hr_2018.tiff 8.96636e-05\n",
      "43000 822a8669-6301-4077-a91d-e42733e3ee8f_rgb_hr_2018.tiff 3.738015e-06\n",
      "44000 8525d78d-33c8-40ee-9b66-58ce9336a71c_rgb_hr_2018.tiff 0.26273733\n",
      "45000 8833d2c1-e060-417f-89a3-42c870658fa6_rgb_hr_2018.tiff 0.00015503011\n",
      "46000 8b577750-5e29-4ac3-aac3-e2f4293da711_rgb_hr_2018.tiff 0.70679957\n",
      "47000 8e66dad8-c495-4418-ad24-c5ae14c86cd6_rgb_hr_2018.tiff 0.96238214\n",
      "48000 916c4852-53c5-4a88-8cbb-eb3a49ae59ad_rgb_hr_2018.tiff 0.99999964\n",
      "49000 9468b615-995e-4774-9952-895c036c1de8_rgb_hr_2018.tiff 0.0\n",
      "50000 975c3143-27b1-4eef-9744-7e805f0db7ab_rgb_hr_2018.tiff 0.016922908\n",
      "51000 9a4eb7ad-44e5-4cf2-a173-db1e7e3a5630_rgb_hr_2018.tiff 0.00044706347\n",
      "52000 9d306e14-71bd-4e76-a808-e5683d689c17_rgb_hr_2018.tiff 0.00012865149\n",
      "53000 a036ab4e-82fb-4d1a-9a40-4f4b7ca71d32_rgb_hr_2018.tiff 0.007383845\n",
      "54000 a352ff71-7174-4b27-a54c-610023d14198_rgb_hr_2018.tiff 0.07576198\n",
      "55000 a66249ce-5038-432c-b2d0-6b0129ade4a0_rgb_hr_2018.tiff 0.00015354791\n",
      "56000 a96f0d5e-3e79-48a3-8eaf-71ef8fc87b74_rgb_hr_2018.tiff 0.99820316\n",
      "57000 ac8397db-9e07-409e-8181-32b2df50b5fb_rgb_hr_2018.tiff 0.0055253827\n",
      "58000 af6e1d06-9352-4dc6-bf2c-d00eb9844472_rgb_hr_2018.tiff 2.463838e-06\n",
      "59000 b2874623-c436-49fa-8f6d-f908b5c88985_rgb_hr_2018.tiff 0.0060840556\n",
      "60000 b57a143f-f64a-444b-a23c-3cf51cca47af_rgb_hr_2018.tiff 1.0\n",
      "61000 b8899efd-d9bd-4808-b29d-944a3262117b_rgb_hr_2018.tiff 0.046259735\n",
      "62000 bbb0f040-0ea8-4129-b83e-4de7d070ee08_rgb_hr_2018.tiff 0.00046520223\n",
      "63000 bee1228f-3981-487e-b6e7-d5bef661e6cc_rgb_hr_2018.tiff 0.9999974\n",
      "64000 c1e44ed3-b335-4e58-8016-5899ac3bc73e_rgb_hr_2018.tiff 0.9938028\n",
      "65000 c4b8e84f-6768-4e4d-a94d-0d904f4d4f68_rgb_hr_2018.tiff 0.0066033583\n",
      "66000 c7a09ef6-67fb-4815-911f-3c423364ba3e_rgb_hr_2018.tiff 9.7508484e-05\n",
      "67000 cab0fbab-17c7-4463-9f2f-4b6ac11602a5_rgb_hr_2018.tiff 0.0027979626\n",
      "68000 cdb5a48c-6bee-44f7-a403-d90f56d33879_rgb_hr_2018.tiff 0.013345796\n",
      "69000 d09f051b-090f-4cc0-ac14-d0973e2962c7_rgb_hr_2018.tiff 0.99390805\n",
      "70000 d396dfd8-ef9e-477f-8be8-f8509138cc89_rgb_hr_2018.tiff 2.6375503e-07\n",
      "71000 d69bae41-cd41-4b6d-b27d-5ebcb68e406d_rgb_hr_2018.tiff 0.6773313\n",
      "72000 d9a93a36-d5c1-4b55-b103-2739a1637b8a_rgb_hr_2018.tiff 9.998081e-07\n",
      "73000 dc9b4204-ed7b-40f1-b74c-82deeb1310cd_rgb_hr_2018.tiff 0.77454615\n",
      "74000 df7ed55a-964e-4f59-9fc2-d23ea9abfdfc_rgb_hr_2018.tiff 1.0\n",
      "75000 e291b24e-43cb-4af4-9155-e46f4765cdf8_rgb_hr_2018.tiff 0.94842464\n",
      "76000 e5a50154-fced-4587-ab7a-e725aab607ac_rgb_hr_2018.tiff 0.0\n",
      "77000 e8922b88-f032-4cb3-b78e-cabc42defd2a_rgb_hr_2018.tiff 0.9997279\n",
      "78000 ebc357cd-333a-4264-9fcd-d4fe8c10ec7f_rgb_hr_2018.tiff 1.2857428e-06\n",
      "79000 eec953c7-6693-4ef1-8dbf-af502f0ab0db_rgb_hr_2018.tiff 1.0\n",
      "80000 f1ddf844-b327-4d83-986c-89c8fe98aa88_rgb_hr_2018.tiff 1.627336e-06\n",
      "81000 f4e6ba5d-af6e-4deb-a271-6491ffeeaa19_rgb_hr_2018.tiff 2.0420142e-05\n",
      "82000 f80530b7-dbd3-4f54-9c43-09929394e788_rgb_hr_2018.tiff 0.8290676\n",
      "83000 fb0073ea-f23c-4301-933c-dbb82a82858c_rgb_hr_2018.tiff 0.00021328821\n",
      "84000 fde14e14-d9ca-499a-8dc0-4ce1ffb6fdfb_rgb_hr_2018.tiff 0.9611725\n"
     ]
    }
   ],
   "source": [
    "import os\n",
    "folder = \"Heerlen200x200-HR/\"\n",
    "results = pd.DataFrame(columns=['img_id','Prediction'])\n",
    "\n",
    "count = 0\n",
    "\n",
    "files = os.listdir(folder)\n",
    "files.sort()\n",
    "\n",
    "for file in files:  \n",
    "    img = loadImg(folder+file,x,y,False)\n",
    "    output= model.predict(img)\n",
    "    results.loc[len(results)] = [file,output[0][0]]\n",
    "    count += 1\n",
    "    if count % 1000 == 0:\n",
    "        print(count,file,output[0][0])\n",
    "        results.to_csv(\"Heerlen_prediction_200_withoutPadding.csv\")     \n",
    "\n",
    "    # Test Code\n",
    "#     img = loadImg(folder+file,x,y,True)\n",
    "#     xxx = loadImg(folder+file,x,y,False)\n",
    "#     imgs = []\n",
    "#     imgs.append(xxx)\n",
    "#     imgs.append(xxx)\n",
    "#     print(model.predict(np.array(imgs)))"
   ]
  },
  {
   "cell_type": "code",
   "execution_count": 78,
   "metadata": {},
   "outputs": [],
   "source": [
    "results.to_csv(\"Heerlen_prediction_200_withoutPadding.csv\")  "
   ]
  },
  {
   "cell_type": "code",
   "execution_count": 79,
   "metadata": {},
   "outputs": [
    {
     "data": {
      "text/plain": [
       "84693"
      ]
     },
     "execution_count": 79,
     "metadata": {},
     "output_type": "execute_result"
    }
   ],
   "source": [
    "len(results)"
   ]
  },
  {
   "cell_type": "code",
   "execution_count": null,
   "metadata": {},
   "outputs": [],
   "source": [
    "# Padding white\n",
    "import cv2\n",
    "from keras.preprocessing.image import  img_to_array\n",
    "from keras.models import load_model\n",
    "\n",
    "modelFile = \"inception_ds.h5\"\n",
    "testFile = \"16.png\"\n",
    "\n",
    "img = cv2.imread(testFile)\n",
    "White = [255,255,255]\n",
    "constant= cv2.copyMakeBorder(img,130,0,130,0,cv2.BORDER_CONSTANT,value=White)\n",
    "cv2.imwrite(\"test.png\", constant)"
   ]
  },
  {
   "cell_type": "code",
   "execution_count": null,
   "metadata": {},
   "outputs": [],
   "source": [
    "White = [255,255,255]\n",
    "constant= cv2.copyMakeBorder(img,10,10,10,10,cv2.BORDER_CONSTANT,value=White)"
   ]
  },
  {
   "cell_type": "code",
   "execution_count": null,
   "metadata": {},
   "outputs": [],
   "source": [
    "cv2.imwrite(\"test.png\", constant)"
   ]
  },
  {
   "cell_type": "code",
   "execution_count": null,
   "metadata": {},
   "outputs": [],
   "source": [
    "import os\n",
    "\n",
    "folder = \"Heerlen200x200-HR_png/\"\n",
    "\n",
    "len(os.listdir(folder))"
   ]
  },
  {
   "cell_type": "code",
   "execution_count": 80,
   "metadata": {},
   "outputs": [],
   "source": [
    "import pandas as pd \n",
    "import numpy as np\n",
    "file1= \"Heerlen_prediction_200_withoutPadding.csv\"\n",
    "file2 = \"Heerlen_prediction_Mask_rcnn_1.csv\""
   ]
  },
  {
   "cell_type": "code",
   "execution_count": 81,
   "metadata": {},
   "outputs": [],
   "source": [
    "res_incep = pd.read_csv(file1, sep=',',index_col = 0)\n",
    "\n",
    "res_rcnn = pd.read_csv(file2,index_col=0)\n"
   ]
  },
  {
   "cell_type": "code",
   "execution_count": 84,
   "metadata": {},
   "outputs": [],
   "source": [
    "# Apply the column operation \n",
    "\n",
    "# def separtorToDot(money_str):\n",
    "#     return float(money_str.replace(\",\",\"\"))\n",
    "\n",
    "# res_incep['Prediction'] = res_incep['Prediction'].apply(separtorToDot)\n",
    "\n",
    "res_incep['Label'] = np.where((res_incep['Prediction'].astype(float) >= 0.5) & (res_incep['Prediction'].astype(float) <= 1),1,0)"
   ]
  },
  {
   "cell_type": "code",
   "execution_count": 85,
   "metadata": {},
   "outputs": [
    {
     "data": {
      "text/html": [
       "<div>\n",
       "<style scoped>\n",
       "    .dataframe tbody tr th:only-of-type {\n",
       "        vertical-align: middle;\n",
       "    }\n",
       "\n",
       "    .dataframe tbody tr th {\n",
       "        vertical-align: top;\n",
       "    }\n",
       "\n",
       "    .dataframe thead th {\n",
       "        text-align: right;\n",
       "    }\n",
       "</style>\n",
       "<table border=\"1\" class=\"dataframe\">\n",
       "  <thead>\n",
       "    <tr style=\"text-align: right;\">\n",
       "      <th></th>\n",
       "      <th>img_id</th>\n",
       "      <th>Prediction</th>\n",
       "      <th>Label</th>\n",
       "    </tr>\n",
       "  </thead>\n",
       "  <tbody>\n",
       "    <tr>\n",
       "      <th>0</th>\n",
       "      <td>00007865-747f-4c04-ae82-3d9ca5b9432e_rgb_hr_20...</td>\n",
       "      <td>0.552315</td>\n",
       "      <td>1</td>\n",
       "    </tr>\n",
       "    <tr>\n",
       "      <th>1</th>\n",
       "      <td>00009ae2-f851-4fd9-8a2a-2ac517df9b95_rgb_hr_20...</td>\n",
       "      <td>0.010304</td>\n",
       "      <td>0</td>\n",
       "    </tr>\n",
       "    <tr>\n",
       "      <th>2</th>\n",
       "      <td>000152c4-dc83-4876-a22d-1fc23b67ea65_rgb_hr_20...</td>\n",
       "      <td>0.671511</td>\n",
       "      <td>1</td>\n",
       "    </tr>\n",
       "    <tr>\n",
       "      <th>3</th>\n",
       "      <td>0001a16c-6798-4b20-b0ff-21745d2bf177_rgb_hr_20...</td>\n",
       "      <td>0.938325</td>\n",
       "      <td>1</td>\n",
       "    </tr>\n",
       "    <tr>\n",
       "      <th>4</th>\n",
       "      <td>000251b3-87bf-4454-bc79-6d8037ffd78f_rgb_hr_20...</td>\n",
       "      <td>0.000134</td>\n",
       "      <td>0</td>\n",
       "    </tr>\n",
       "  </tbody>\n",
       "</table>\n",
       "</div>"
      ],
      "text/plain": [
       "                                              img_id  Prediction  Label\n",
       "0  00007865-747f-4c04-ae82-3d9ca5b9432e_rgb_hr_20...    0.552315      1\n",
       "1  00009ae2-f851-4fd9-8a2a-2ac517df9b95_rgb_hr_20...    0.010304      0\n",
       "2  000152c4-dc83-4876-a22d-1fc23b67ea65_rgb_hr_20...    0.671511      1\n",
       "3  0001a16c-6798-4b20-b0ff-21745d2bf177_rgb_hr_20...    0.938325      1\n",
       "4  000251b3-87bf-4454-bc79-6d8037ffd78f_rgb_hr_20...    0.000134      0"
      ]
     },
     "execution_count": 85,
     "metadata": {},
     "output_type": "execute_result"
    }
   ],
   "source": [
    "res_incep.head()"
   ]
  },
  {
   "cell_type": "code",
   "execution_count": 86,
   "metadata": {},
   "outputs": [],
   "source": [
    "res_incep.merge(res_rcnn,'inner','img_id').to_csv(\"NRW_prediction_on_heerlen_new.csv\")"
   ]
  }
 ],
 "metadata": {
  "kernelspec": {
   "display_name": "Python 3",
   "language": "python",
   "name": "python3"
  },
  "language_info": {
   "codemirror_mode": {
    "name": "ipython",
    "version": 3
   },
   "file_extension": ".py",
   "mimetype": "text/x-python",
   "name": "python",
   "nbconvert_exporter": "python",
   "pygments_lexer": "ipython3",
   "version": "3.7.4"
  }
 },
 "nbformat": 4,
 "nbformat_minor": 2
}
